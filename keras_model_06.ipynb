{
 "cells": [
  {
   "cell_type": "code",
   "execution_count": 1,
   "metadata": {},
   "outputs": [],
   "source": [
    "import tensorflow as tf\n",
    "import numpy as np\n",
    "from tensorflow import keras\n",
    "import cv2\n",
    "import random\n",
    "import glob\n",
    "import os\n",
    "from input_fn import preprocess_images, input_fn\n",
    "import matplotlib.pyplot as plt\n",
    "%matplotlib inline\n"
   ]
  },
  {
   "cell_type": "code",
   "execution_count": 2,
   "metadata": {},
   "outputs": [],
   "source": [
    "data = np.load('/home/gcsadmin/Projects/product_cognizer/datasets/final_data/array_64_Vinmart_data.npz')\n",
    "\n",
    "X_train = data['X_train']\n",
    "y_train = data['y_train']\n",
    "X_val = data['X_val']\n",
    "y_val = data['y_val']\n",
    "X_test = data['X_test']\n",
    "y_test = data['y_test']"
   ]
  },
  {
   "cell_type": "code",
   "execution_count": null,
   "metadata": {},
   "outputs": [],
   "source": [
    "# train = input_fn('/home/gcsadmin/Projects/product_cognizer/datasets/new_data_01/train')\n",
    "# val = input_fn('/home/gcsadmin/Projects/product_cognizer/datasets/new_data_01/val')\n",
    "# test = input_fn('/home/gcsadmin/Projects/product_cognizer/datasets/new_data_01/test')"
   ]
  },
  {
   "cell_type": "code",
   "execution_count": null,
   "metadata": {},
   "outputs": [],
   "source": [
    "# X_train = train ['X']\n",
    "# y_train = train['y']\n",
    "# X_val = val['X']\n",
    "# y_val = val['y']\n",
    "# X_test = test['X']\n",
    "# y_test = test['y']"
   ]
  },
  {
   "cell_type": "code",
   "execution_count": 3,
   "metadata": {},
   "outputs": [
    {
     "name": "stdout",
     "output_type": "stream",
     "text": [
      "(39357, 64, 64, 3) (39357,)\n",
      "(4920, 64, 64, 3) (4920,)\n",
      "(4920, 64, 64, 3) (4920,)\n"
     ]
    }
   ],
   "source": [
    "print(X_train.shape, y_train.shape)\n",
    "print(X_val.shape, y_val.shape)\n",
    "print(X_test.shape, y_test.shape)"
   ]
  },
  {
   "cell_type": "code",
   "execution_count": 7,
   "metadata": {},
   "outputs": [],
   "source": [
    "def create_model():\n",
    "    model = tf.keras.models.Sequential([\n",
    "        tf.keras.layers.Conv2D(filters = 16, \n",
    "                              padding = 'same',\n",
    "                              kernel_size = 3,\n",
    "                              strides = 2,\n",
    "                              activation = tf.keras.activations.relu),\n",
    "        tf.keras.layers.BatchNormalization(),\n",
    "        \n",
    "        tf.keras.layers.Conv2D(filters = 32, \n",
    "                              padding = 'same',\n",
    "                              kernel_size = 3,\n",
    "                              strides = 2,\n",
    "                              activation = tf.keras.activations.relu),\n",
    "        tf.keras.layers.BatchNormalization(),\n",
    "        \n",
    "        tf.keras.layers.Conv2D(filters = 64, \n",
    "                              padding = 'same',\n",
    "                              kernel_size = 3,\n",
    "                              strides = 2,\n",
    "                              activation = tf.keras.activations.relu),\n",
    "        tf.keras.layers.BatchNormalization(),\n",
    "               \n",
    "        tf.keras.layers.MaxPool2D(pool_size = 2, strides = 2),\n",
    "        tf.keras.layers.Flatten(),\n",
    "        \n",
    "        tf.keras.layers.Dense(1024, activation= tf.keras.activations.relu),\n",
    "        tf.keras.layers.BatchNormalization(),\n",
    "        tf.keras.layers.Dropout(rate= 0.5),\n",
    "        tf.keras.layers.Dense(220, activation= tf.keras.activations.softmax)\n",
    "    ])\n",
    "    model.compile(optimizer= tf.keras.optimizers.Adam(),\n",
    "                 loss = tf.keras.losses.sparse_categorical_crossentropy,\n",
    "                 metrics= ['accuracy'])\n",
    "    return model"
   ]
  },
  {
   "cell_type": "code",
   "execution_count": 8,
   "metadata": {},
   "outputs": [
    {
     "name": "stdout",
     "output_type": "stream",
     "text": [
      "Train on 39357 samples, validate on 4920 samples\n",
      "WARNING:tensorflow:From /home/gcsadmin/.local/lib/python3.5/site-packages/tensorflow/python/ops/math_ops.py:3066: to_int32 (from tensorflow.python.ops.math_ops) is deprecated and will be removed in a future version.\n",
      "Instructions for updating:\n",
      "Use tf.cast instead.\n",
      "Epoch 1/10\n",
      "39357/39357 [==============================] - 70s 2ms/sample - loss: 1.6517 - acc: 0.5899 - val_loss: 0.7037 - val_acc: 0.7868\n",
      "Epoch 2/10\n",
      "39357/39357 [==============================] - 68s 2ms/sample - loss: 0.3306 - acc: 0.8999 - val_loss: 0.5700 - val_acc: 0.8270\n",
      "Epoch 3/10\n",
      "39357/39357 [==============================] - 67s 2ms/sample - loss: 0.1890 - acc: 0.9421 - val_loss: 0.1156 - val_acc: 0.9657\n",
      "Epoch 4/10\n",
      "39357/39357 [==============================] - 69s 2ms/sample - loss: 0.1449 - acc: 0.9548 - val_loss: 0.3630 - val_acc: 0.8915\n",
      "Epoch 5/10\n",
      "39357/39357 [==============================] - 67s 2ms/sample - loss: 0.1230 - acc: 0.9611 - val_loss: 0.5096 - val_acc: 0.8514\n",
      "Epoch 6/10\n",
      "39357/39357 [==============================] - 68s 2ms/sample - loss: 0.1187 - acc: 0.9620 - val_loss: 1.0533 - val_acc: 0.7504\n",
      "Epoch 7/10\n",
      "39357/39357 [==============================] - 70s 2ms/sample - loss: 0.1140 - acc: 0.9653 - val_loss: 0.5547 - val_acc: 0.8559\n",
      "Epoch 8/10\n",
      "39357/39357 [==============================] - 70s 2ms/sample - loss: 0.0997 - acc: 0.9691 - val_loss: 0.3479 - val_acc: 0.9024\n",
      "Epoch 9/10\n",
      "39357/39357 [==============================] - 70s 2ms/sample - loss: 0.0853 - acc: 0.9733 - val_loss: 0.4388 - val_acc: 0.8752\n",
      "Epoch 10/10\n",
      "39357/39357 [==============================] - 68s 2ms/sample - loss: 0.0860 - acc: 0.9735 - val_loss: 0.1412 - val_acc: 0.9543\n"
     ]
    },
    {
     "data": {
      "text/plain": [
       "<tensorflow.python.keras.callbacks.History at 0x7fba9dc8bc50>"
      ]
     },
     "execution_count": 8,
     "metadata": {},
     "output_type": "execute_result"
    }
   ],
   "source": [
    "model = create_model()\n",
    "model.fit(X_train, y_train, validation_data = (X_val, y_val), batch_size = 64, epochs=10)"
   ]
  },
  {
   "cell_type": "code",
   "execution_count": 9,
   "metadata": {},
   "outputs": [
    {
     "name": "stdout",
     "output_type": "stream",
     "text": [
      "Train on 39357 samples, validate on 4920 samples\n",
      "Epoch 1/5\n",
      "39357/39357 [==============================] - 69s 2ms/sample - loss: 0.0748 - acc: 0.9768 - val_loss: 0.8954 - val_acc: 0.8075\n",
      "Epoch 2/5\n",
      "39357/39357 [==============================] - 69s 2ms/sample - loss: 0.0668 - acc: 0.9796 - val_loss: 0.2054 - val_acc: 0.9415\n",
      "Epoch 3/5\n",
      "39357/39357 [==============================] - 68s 2ms/sample - loss: 0.0763 - acc: 0.9772 - val_loss: 0.4712 - val_acc: 0.8878\n",
      "Epoch 4/5\n",
      "39357/39357 [==============================] - 70s 2ms/sample - loss: 0.0617 - acc: 0.9811 - val_loss: 2.0040 - val_acc: 0.6528\n",
      "Epoch 5/5\n",
      "39357/39357 [==============================] - 70s 2ms/sample - loss: 0.0611 - acc: 0.9810 - val_loss: 0.1527 - val_acc: 0.9551\n"
     ]
    },
    {
     "data": {
      "text/plain": [
       "<tensorflow.python.keras.callbacks.History at 0x7fbacb113400>"
      ]
     },
     "execution_count": 9,
     "metadata": {},
     "output_type": "execute_result"
    }
   ],
   "source": [
    "model.fit(X_train, y_train, validation_data = (X_val, y_val), batch_size = 64, epochs=5)"
   ]
  },
  {
   "cell_type": "code",
   "execution_count": 17,
   "metadata": {},
   "outputs": [
    {
     "name": "stdout",
     "output_type": "stream",
     "text": [
      "Train on 39357 samples, validate on 4920 samples\n",
      "39357/39357 [==============================] - 68s 2ms/sample - loss: 0.0398 - acc: 0.9890 - val_loss: 0.0349 - val_acc: 0.9892\n"
     ]
    },
    {
     "data": {
      "text/plain": [
       "<tensorflow.python.keras.callbacks.History at 0x7fba9dbcfda0>"
      ]
     },
     "execution_count": 17,
     "metadata": {},
     "output_type": "execute_result"
    }
   ],
   "source": [
    "model.fit(X_train, y_train, validation_data = (X_val, y_val), batch_size = 64, epochs=1)#25"
   ]
  },
  {
   "cell_type": "code",
   "execution_count": 11,
   "metadata": {},
   "outputs": [
    {
     "name": "stdout",
     "output_type": "stream",
     "text": [
      "Train on 39357 samples, validate on 4920 samples\n",
      "Epoch 1/5\n",
      "39357/39357 [==============================] - 68s 2ms/sample - loss: 0.0548 - acc: 0.9830 - val_loss: 0.1584 - val_acc: 0.9581\n",
      "Epoch 2/5\n",
      "39357/39357 [==============================] - 68s 2ms/sample - loss: 0.0605 - acc: 0.9816 - val_loss: 0.7535 - val_acc: 0.8388\n",
      "Epoch 3/5\n",
      "39357/39357 [==============================] - 67s 2ms/sample - loss: 0.0542 - acc: 0.9840 - val_loss: 0.1060 - val_acc: 0.9697\n",
      "Epoch 4/5\n",
      "39357/39357 [==============================] - 70s 2ms/sample - loss: 0.0470 - acc: 0.9854 - val_loss: 0.0576 - val_acc: 0.9843\n",
      "Epoch 5/5\n",
      "39357/39357 [==============================] - 71s 2ms/sample - loss: 0.0450 - acc: 0.9862 - val_loss: 0.0598 - val_acc: 0.9823\n"
     ]
    },
    {
     "data": {
      "text/plain": [
       "<tensorflow.python.keras.callbacks.History at 0x7fba9dbcf978>"
      ]
     },
     "execution_count": 11,
     "metadata": {},
     "output_type": "execute_result"
    }
   ],
   "source": [
    "model.fit(X_train, y_train, validation_data = (X_val, y_val), batch_size = 64, epochs=5)"
   ]
  },
  {
   "cell_type": "code",
   "execution_count": 18,
   "metadata": {},
   "outputs": [],
   "source": [
    "model.save('keras_model_06.h5')"
   ]
  },
  {
   "cell_type": "code",
   "execution_count": 19,
   "metadata": {},
   "outputs": [
    {
     "name": "stdout",
     "output_type": "stream",
     "text": [
      "WARNING:tensorflow:Sequential models without an `input_shape` passed to the first layer cannot reload their optimizer state. As a result, your model isstarting with a freshly initialized optimizer.\n"
     ]
    }
   ],
   "source": [
    "restore_model = keras.models.load_model('keras_model_06.h5') #25 epoch"
   ]
  },
  {
   "cell_type": "code",
   "execution_count": 20,
   "metadata": {},
   "outputs": [
    {
     "name": "stdout",
     "output_type": "stream",
     "text": [
      "4920/4920 [==============================] - 2s 467us/sample - loss: 0.0349 - acc: 0.9892\n",
      "Accuracy: 98.92%\n"
     ]
    }
   ],
   "source": [
    "loss, acc = restore_model.evaluate(X_val, y_val)\n",
    "print('Accuracy: {:5.2f}%'.format(100*acc))\n"
   ]
  },
  {
   "cell_type": "code",
   "execution_count": 21,
   "metadata": {},
   "outputs": [
    {
     "name": "stdout",
     "output_type": "stream",
     "text": [
      "4920/4920 [==============================] - 2s 456us/sample - loss: 0.0432 - acc: 0.9892\n",
      "Accuracy: 98.92%\n"
     ]
    }
   ],
   "source": [
    "loss, acc = restore_model.evaluate(X_test, y_test)\n",
    "print('Accuracy: {:5.2f}%'.format(100*acc))"
   ]
  },
  {
   "cell_type": "code",
   "execution_count": null,
   "metadata": {},
   "outputs": [],
   "source": []
  }
 ],
 "metadata": {
  "kernelspec": {
   "display_name": "Python 3",
   "language": "python",
   "name": "python3"
  },
  "language_info": {
   "codemirror_mode": {
    "name": "ipython",
    "version": 3
   },
   "file_extension": ".py",
   "mimetype": "text/x-python",
   "name": "python",
   "nbconvert_exporter": "python",
   "pygments_lexer": "ipython3",
   "version": "3.5.2"
  }
 },
 "nbformat": 4,
 "nbformat_minor": 2
}
