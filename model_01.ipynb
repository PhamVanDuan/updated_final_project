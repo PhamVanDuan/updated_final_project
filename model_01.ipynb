{
 "cells": [
  {
   "cell_type": "code",
   "execution_count": 1,
   "metadata": {},
   "outputs": [],
   "source": [
    "import tensorflow as tf\n",
    "import numpy as np\n",
    "from tensorflow import keras\n",
    "import cv2\n",
    "import random\n",
    "import glob\n",
    "import os\n",
    "from input_fn import preprocess_images, input_fn\n",
    "import matplotlib.pyplot as plt\n",
    "%matplotlib inline"
   ]
  },
  {
   "cell_type": "code",
   "execution_count": 2,
   "metadata": {},
   "outputs": [],
   "source": [
    "data = np.load('C:/Users/asus/Documents/updated_final_project-master/final_data/array_64_Vinmart_data.npz')\n",
    "\n",
    "X_train = data['X_train']\n",
    "y_train = data['y_train']\n",
    "X_val = data['X_val']\n",
    "y_val = data['y_val']\n",
    "X_test = data['X_test']\n",
    "y_test = data['y_test']"
   ]
  },
  {
   "cell_type": "code",
   "execution_count": 3,
   "metadata": {},
   "outputs": [
    {
     "name": "stdout",
     "output_type": "stream",
     "text": [
      "(39357, 64, 64, 3) (39357,)\n",
      "(4920, 64, 64, 3) (4920,)\n",
      "(4920, 64, 64, 3) (4920,)\n"
     ]
    }
   ],
   "source": [
    "print(X_train.shape, y_train.shape)\n",
    "print(X_val.shape, y_val.shape)\n",
    "print(X_test.shape, y_test.shape)"
   ]
  },
  {
   "cell_type": "code",
   "execution_count": 4,
   "metadata": {},
   "outputs": [],
   "source": [
    "def create_model():\n",
    "    model = tf.keras.models.Sequential([\n",
    "        tf.keras.layers.Conv2D(filters = 16, \n",
    "                              padding = 'same',\n",
    "                              kernel_size = 3,\n",
    "                              strides = 3,\n",
    "                              activation = tf.keras.activations.relu),\n",
    "        tf.keras.layers.BatchNormalization(),\n",
    "        \n",
    "        tf.keras.layers.Conv2D(filters = 32, \n",
    "                              padding = 'same',\n",
    "                              kernel_size = 3,\n",
    "                              strides = 3,\n",
    "                              activation = tf.keras.activations.relu),\n",
    "        tf.keras.layers.BatchNormalization(),\n",
    "        \n",
    "        tf.keras.layers.Conv2D(filters = 64, \n",
    "                              padding = 'same',\n",
    "                              kernel_size = 3,\n",
    "                              strides = 1,\n",
    "                              activation = tf.keras.activations.relu),\n",
    "        tf.keras.layers.BatchNormalization(),    \n",
    "        \n",
    "        tf.keras.layers.MaxPool2D(pool_size = 2, strides = 2),\n",
    "        tf.keras.layers.Flatten(),\n",
    "        \n",
    "        tf.keras.layers.Dense(1024, activation= tf.keras.activations.relu),\n",
    "        tf.keras.layers.BatchNormalization(),\n",
    "        tf.keras.layers.Dropout(rate= 0.5),\n",
    "        tf.keras.layers.Dense(220, activation= tf.keras.activations.softmax)\n",
    "    ])\n",
    "    model.compile(optimizer= tf.keras.optimizers.Adam(),\n",
    "                 loss = tf.keras.losses.sparse_categorical_crossentropy,\n",
    "                 metrics= ['accuracy'])\n",
    "    return model"
   ]
  },
  {
   "cell_type": "code",
   "execution_count": 5,
   "metadata": {},
   "outputs": [
    {
     "name": "stdout",
     "output_type": "stream",
     "text": [
      "WARNING:tensorflow:From c:\\users\\asus\\appdata\\local\\programs\\python\\python36\\lib\\site-packages\\tensorflow\\python\\ops\\resource_variable_ops.py:435: colocate_with (from tensorflow.python.framework.ops) is deprecated and will be removed in a future version.\n",
      "Instructions for updating:\n",
      "Colocations handled automatically by placer.\n"
     ]
    }
   ],
   "source": [
    "model = create_model()"
   ]
  },
  {
   "cell_type": "code",
   "execution_count": 6,
   "metadata": {},
   "outputs": [
    {
     "name": "stdout",
     "output_type": "stream",
     "text": [
      "WARNING:tensorflow:From c:\\users\\asus\\appdata\\local\\programs\\python\\python36\\lib\\site-packages\\tensorflow\\python\\keras\\layers\\core.py:143: calling dropout (from tensorflow.python.ops.nn_ops) with keep_prob is deprecated and will be removed in a future version.\n",
      "Instructions for updating:\n",
      "Please use `rate` instead of `keep_prob`. Rate should be set to `rate = 1 - keep_prob`.\n",
      "Train on 39357 samples, validate on 4920 samples\n",
      "WARNING:tensorflow:From c:\\users\\asus\\appdata\\local\\programs\\python\\python36\\lib\\site-packages\\tensorflow\\python\\ops\\math_ops.py:3066: to_int32 (from tensorflow.python.ops.math_ops) is deprecated and will be removed in a future version.\n",
      "Instructions for updating:\n",
      "Use tf.cast instead.\n",
      "Epoch 1/10\n",
      "39357/39357 [==============================] - 137s 3ms/sample - loss: 1.7843 - acc: 0.5610 - val_loss: 0.6058 - val_acc: 0.8148\n",
      "Epoch 2/10\n",
      "39357/39357 [==============================] - 115s 3ms/sample - loss: 0.3851 - acc: 0.8838 - val_loss: 0.5344 - val_acc: 0.8321\n",
      "Epoch 3/10\n",
      "39357/39357 [==============================] - 85s 2ms/sample - loss: 0.2310 - acc: 0.9281 - val_loss: 0.7944 - val_acc: 0.7764\n",
      "Epoch 4/10\n",
      "39357/39357 [==============================] - 89s 2ms/sample - loss: 0.1637 - acc: 0.9492 - val_loss: 1.2181 - val_acc: 0.7224\n",
      "Epoch 5/10\n",
      "39357/39357 [==============================] - 86s 2ms/sample - loss: 0.1411 - acc: 0.9566 - val_loss: 0.6268 - val_acc: 0.8167\n",
      "Epoch 6/10\n",
      "39357/39357 [==============================] - 85s 2ms/sample - loss: 0.1280 - acc: 0.9595 - val_loss: 0.2113 - val_acc: 0.9354\n",
      "Epoch 7/10\n",
      "39357/39357 [==============================] - 85s 2ms/sample - loss: 0.1200 - acc: 0.9617 - val_loss: 0.3728 - val_acc: 0.8841\n",
      "Epoch 8/10\n",
      "39357/39357 [==============================] - 83s 2ms/sample - loss: 0.1138 - acc: 0.9638 - val_loss: 0.4935 - val_acc: 0.8587\n",
      "Epoch 9/10\n",
      "39357/39357 [==============================] - 85s 2ms/sample - loss: 0.0995 - acc: 0.9678 - val_loss: 1.3061 - val_acc: 0.7376\n",
      "Epoch 10/10\n",
      "39357/39357 [==============================] - 83s 2ms/sample - loss: 0.0932 - acc: 0.9708 - val_loss: 0.0955 - val_acc: 0.9691\n"
     ]
    }
   ],
   "source": [
    "history = model.fit(X_train, y_train, validation_data = (X_val, y_val), batch_size = 64, epochs=10)"
   ]
  },
  {
   "cell_type": "code",
   "execution_count": 7,
   "metadata": {},
   "outputs": [],
   "source": [
    "model.save('keras_model_01.h5')"
   ]
  },
  {
   "cell_type": "code",
   "execution_count": 8,
   "metadata": {},
   "outputs": [
    {
     "name": "stdout",
     "output_type": "stream",
     "text": [
      "dict_keys(['loss', 'acc', 'val_loss', 'val_acc'])\n"
     ]
    }
   ],
   "source": [
    "print(history.history.keys())"
   ]
  },
  {
   "cell_type": "code",
   "execution_count": 9,
   "metadata": {},
   "outputs": [
    {
     "data": {
      "image/png": "[encoded data removed]",
      "text/plain": [
       "<Figure size 432x288 with 1 Axes>"
      ]
     },
     "metadata": {
      "needs_background": "light"
     },
     "output_type": "display_data"
    }
   ],
   "source": [
    "plt.plot(history.history['acc'])\n",
    "plt.plot(history.history['val_acc'])\n",
    "plt.title('model accuracy')\n",
    "plt.ylabel('accuracy')\n",
    "plt.xlabel('epoch')\n",
    "plt.legend(['train', 'val'], loc='upper left')\n",
    "plt.show()"
   ]
  },
  {
   "cell_type": "code",
   "execution_count": 10,
   "metadata": {},
   "outputs": [
    {
     "data": {
      "image/png": "[encoded data removed]",
      "text/plain": [
       "<Figure size 432x288 with 1 Axes>"
      ]
     },
     "metadata": {
      "needs_background": "light"
     },
     "output_type": "display_data"
    }
   ],
   "source": [
    "plt.plot(history.history['loss'])\n",
    "plt.plot(history.history['val_loss'])\n",
    "plt.title('model loss')\n",
    "plt.ylabel('loss')\n",
    "plt.xlabel('epoch')\n",
    "plt.legend(['train', 'val'], loc='upper left')\n",
    "plt.show()"
   ]
  },
  {
   "cell_type": "code",
   "execution_count": 11,
   "metadata": {},
   "outputs": [
    {
     "name": "stdout",
     "output_type": "stream",
     "text": [
      "4920/4920 [==============================] - 1s 290us/sample - loss: 0.0955 - acc: 0.9691\n",
      "Accuracy: 96.91%\n"
     ]
    }
   ],
   "source": [
    "loss, acc = model.evaluate(X_val, y_val)\n",
    "print('Accuracy: {:5.2f}%'.format(100*acc))"
   ]
  },
  {
   "cell_type": "code",
   "execution_count": 12,
   "metadata": {},
   "outputs": [
    {
     "name": "stdout",
     "output_type": "stream",
     "text": [
      "4920/4920 [==============================] - 1s 287us/sample - loss: 0.0835 - acc: 0.9762\n",
      "Accuracy: 97.62%\n"
     ]
    }
   ],
   "source": [
    "loss, acc = model.evaluate(X_test, y_test)\n",
    "print('Accuracy: {:5.2f}%'.format(100*acc))"
   ]
  },
  {
   "cell_type": "code",
   "execution_count": 13,
   "metadata": {},
   "outputs": [
    {
     "name": "stdout",
     "output_type": "stream",
     "text": [
      "_________________________________________________________________\n",
      "Layer (type)                 Output Shape              Param #   \n",
      "=================================================================\n",
      "conv2d (Conv2D)              multiple                  448       \n",
      "_________________________________________________________________\n",
      "batch_normalization_v1 (Batc multiple                  64        \n",
      "_________________________________________________________________\n",
      "conv2d_1 (Conv2D)            multiple                  4640      \n",
      "_________________________________________________________________\n",
      "batch_normalization_v1_1 (Ba multiple                  128       \n",
      "_________________________________________________________________\n",
      "conv2d_2 (Conv2D)            multiple                  18496     \n",
      "_________________________________________________________________\n",
      "batch_normalization_v1_2 (Ba multiple                  256       \n",
      "_________________________________________________________________\n",
      "max_pooling2d (MaxPooling2D) multiple                  0         \n",
      "_________________________________________________________________\n",
      "flatten (Flatten)            multiple                  0         \n",
      "_________________________________________________________________\n",
      "dense (Dense)                multiple                  1049600   \n",
      "_________________________________________________________________\n",
      "batch_normalization_v1_3 (Ba multiple                  4096      \n",
      "_________________________________________________________________\n",
      "dropout (Dropout)            multiple                  0         \n",
      "_________________________________________________________________\n",
      "dense_1 (Dense)              multiple                  225500    \n",
      "=================================================================\n",
      "Total params: 1,303,228\n",
      "Trainable params: 1,300,956\n",
      "Non-trainable params: 2,272\n",
      "_________________________________________________________________\n"
     ]
    }
   ],
   "source": [
    "model.summary()"
   ]
  },
  {
   "cell_type": "code",
   "execution_count": null,
   "metadata": {},
   "outputs": [],
   "source": []
  }
 ],
 "metadata": {
  "kernelspec": {
   "display_name": "Python 3",
   "language": "python",
   "name": "python3"
  },
  "language_info": {
   "codemirror_mode": {
    "name": "ipython",
    "version": 3
   },
   "file_extension": ".py",
   "mimetype": "text/x-python",
   "name": "python",
   "nbconvert_exporter": "python",
   "pygments_lexer": "ipython3",
   "version": "3.6.8"
  }
 },
 "nbformat": 4,
 "nbformat_minor": 2
}
